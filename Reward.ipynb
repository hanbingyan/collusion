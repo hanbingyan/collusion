{
 "cells": [
  {
   "cell_type": "code",
   "execution_count": 1,
   "metadata": {},
   "outputs": [],
   "source": [
    "import random\n",
    "import numpy as np\n",
    "import matplotlib.pyplot as plt\n",
    "import seaborn as sns"
   ]
  },
  {
   "cell_type": "code",
   "execution_count": 2,
   "metadata": {},
   "outputs": [],
   "source": [
    "from scipy.optimize import minimize"
   ]
  },
  {
   "cell_type": "code",
   "execution_count": 3,
   "metadata": {},
   "outputs": [],
   "source": [
    "import scipy.optimize "
   ]
  },
  {
   "cell_type": "code",
   "execution_count": 2,
   "metadata": {},
   "outputs": [],
   "source": [
    "actions_space = np.arange(1.15, 2.4, 0.05)\n",
    "# actions_space = np.linspace(1.0, 2.5, 20)\n",
    "n_actions = actions_space.size\n",
    "n_agents = 2\n",
    "quality = np.ones(2)*2\n",
    "margin_cost = np.ones(2)\n",
    "margin_cost[1] = 0.5\n",
    "horizon = 1/4\n",
    "a0 = 0"
   ]
  },
  {
   "cell_type": "code",
   "execution_count": 7,
   "metadata": {},
   "outputs": [
    {
     "data": {
      "text/plain": [
       "1.4000000000000001"
      ]
     },
     "execution_count": 7,
     "metadata": {},
     "output_type": "execute_result"
    }
   ],
   "source": [
    "actions_space[5]"
   ]
  },
  {
   "cell_type": "code",
   "execution_count": 5,
   "metadata": {},
   "outputs": [],
   "source": [
    "import sympy as sym"
   ]
  },
  {
   "cell_type": "code",
   "execution_count": 6,
   "metadata": {},
   "outputs": [
    {
     "data": {
      "text/latex": [
       "$\\displaystyle - \\frac{4 \\left(x - 1\\right) e^{8 - 4 x}}{2 e^{8 - 4 x} + 1} + \\frac{8 \\left(x - 1\\right) e^{16 - 8 x}}{\\left(2 e^{8 - 4 x} + 1\\right)^{2}} + \\frac{e^{8 - 4 x}}{2 e^{8 - 4 x} + 1}$"
      ],
      "text/plain": [
       "-4*(x - 1)*exp(8 - 4*x)/(2*exp(8 - 4*x) + 1) + 8*(x - 1)*exp(16 - 8*x)/(2*exp(8 - 4*x) + 1)**2 + exp(8 - 4*x)/(2*exp(8 - 4*x) + 1)"
      ]
     },
     "execution_count": 6,
     "metadata": {},
     "output_type": "execute_result"
    }
   ],
   "source": [
    "x = sym.Symbol('x')\n",
    "y = sym.Symbol('y')\n",
    "sym.diff((x - 1)*sym.exp((2 - x)*4)/(sym.exp((2 - x)*4) + sym.exp((2 - x)*4) + 1), x)"
   ]
  },
  {
   "cell_type": "code",
   "execution_count": 21,
   "metadata": {},
   "outputs": [
    {
     "data": {
      "text/latex": [
       "$\\displaystyle \\left[\\begin{matrix}1.37232666249679\\\\1.20377234597973\\end{matrix}\\right]$"
      ],
      "text/plain": [
       "Matrix([\n",
       "[1.37232666249679],\n",
       "[1.20377234597973]])"
      ]
     },
     "execution_count": 21,
     "metadata": {},
     "output_type": "execute_result"
    }
   ],
   "source": [
    "mu = 0.25\n",
    "c = np.ones(2)\n",
    "c[1] = 0.5\n",
    "sym.nsolve([sym.diff((x - c[0])*sym.exp((2 - x)/mu)/(sym.exp((2 - x)/mu) + sym.exp((2 - y)/mu) + 1), x),\n",
    "            sym.diff((y - c[1])*sym.exp((2 - y)/mu)/(sym.exp((2 - x)/mu) + sym.exp((2 - y)/mu) + 1), y)], \n",
    "           [x, y], [1, 1])"
   ]
  },
  {
   "cell_type": "code",
   "execution_count": 22,
   "metadata": {},
   "outputs": [
    {
     "name": "stdout",
     "output_type": "stream",
     "text": [
      "(1.8551826741486366e-13, 1.7119639039719914e-13)\n"
     ]
    }
   ],
   "source": [
    "# Method 2\n",
    "from sympy.utilities.lambdify import lambdify\n",
    "from scipy.optimize import fsolve\n",
    "dif1 = lambdify((x,y), sym.diff((x - c[0])*sym.exp((2 - x)/mu)/(sym.exp((2 - x)/mu) + sym.exp((2 - y)/mu) + 1), x))\n",
    "dif2 = lambdify((x,y), sym.diff((y - c[1])*sym.exp((2 - y)/mu)/(sym.exp((2 - x)/mu) + sym.exp((2 - y)/mu) + 1), y))\n",
    "def equations(p):\n",
    "    a, b = p\n",
    "    return (dif1(a, b), dif2(a, b))\n",
    "\n",
    "a, b =  fsolve(equations, (1, 1))\n",
    "print(equations((a, b)))"
   ]
  },
  {
   "cell_type": "code",
   "execution_count": 23,
   "metadata": {},
   "outputs": [
    {
     "data": {
      "text/plain": [
       "(1.3723266624965957, 1.203772345979548)"
      ]
     },
     "execution_count": 23,
     "metadata": {},
     "output_type": "execute_result"
    }
   ],
   "source": [
    "a, b"
   ]
  },
  {
   "cell_type": "code",
   "execution_count": null,
   "metadata": {},
   "outputs": [],
   "source": [
    "# def diff(p):\n",
    "#     y = np.exp(4*(2 - p))/(1 + np.exp(4*(2 - p)) + np.exp(4*(2 - p))) + \\\n",
    "#     (4*np.exp(8*(2 - p))*(-1 + p))/(1 + np.exp(4*(2 - p)) + np.exp(4*(2 - p)))**2 -\\\n",
    "#     (4*np.exp(4*(2 - p))*(-1 + p))/(1 + np.exp(4*(2 - p)) + np.exp(4*(2 - p)))\n",
    "#     return y\n",
    "# scipy.optimize.broyden1(diff, [2], f_tol=1e-14)"
   ]
  },
  {
   "cell_type": "code",
   "execution_count": 15,
   "metadata": {},
   "outputs": [],
   "source": [
    "def reward_joint(price):\n",
    "    # Compute joint profits for all agents\n",
    "    demand = np.exp((quality - price)/horizon)\n",
    "    demand = demand/(np.sum(demand)+np.exp(a0/horizon))\n",
    "    reward = np.sum(np.multiply(price - margin_cost, demand))\n",
    "    return -reward"
   ]
  },
  {
   "cell_type": "code",
   "execution_count": 24,
   "metadata": {},
   "outputs": [
    {
     "name": "stdout",
     "output_type": "stream",
     "text": [
      "Optimization terminated successfully.\n",
      "         Current function value: -0.948402\n",
      "         Iterations: 67\n",
      "         Function evaluations: 128\n"
     ]
    }
   ],
   "source": [
    "x0 = np.array([1, 1])\n",
    "res = minimize(reward_joint, x0, method='nelder-mead',\n",
    "               options={'xatol': 1e-8, 'disp': True})"
   ]
  },
  {
   "cell_type": "code",
   "execution_count": 25,
   "metadata": {},
   "outputs": [
    {
     "data": {
      "text/plain": [
       "array([2.19840249, 1.69840249])"
      ]
     },
     "execution_count": 25,
     "metadata": {},
     "output_type": "execute_result"
    }
   ],
   "source": [
    "res.x"
   ]
  },
  {
   "cell_type": "code",
   "execution_count": 5,
   "metadata": {},
   "outputs": [],
   "source": [
    "def reward_comp(action):\n",
    "    # Compute profits for all agents\n",
    "    # Input: actions taken by all agents, shape: n_agents; value: from actions_space = np.array(0, 50, 0.1)\n",
    "    # Output: profits for all agents, n_agents\n",
    "    price = actions_space[action]\n",
    "    demand = np.exp((quality - price) / horizon)\n",
    "    demand = demand / (np.sum(demand) + np.exp(a0 / horizon))\n",
    "    reward = np.multiply(price - margin_cost, demand)\n",
    "    return reward"
   ]
  },
  {
   "cell_type": "code",
   "execution_count": 6,
   "metadata": {},
   "outputs": [],
   "source": [
    "reward_heat0 = np.zeros((n_actions, n_actions))\n",
    "for i in range(n_actions):\n",
    "    for j in range(n_actions):\n",
    "        reward_heat0[i, j] = reward_comp([i, j])[0]\n",
    "reward_heat1 = np.zeros((n_actions, n_actions))\n",
    "for i in range(n_actions):\n",
    "    for j in range(n_actions):\n",
    "        reward_heat1[i, j] = reward_comp([i, j])[1]"
   ]
  },
  {
   "cell_type": "code",
   "execution_count": 8,
   "metadata": {},
   "outputs": [
    {
     "data": {
      "image/png": "[encoded data removed]",
      "text/plain": [
       "<Figure size 864x432 with 2 Axes>"
      ]
     },
     "metadata": {
      "needs_background": "light"
     },
     "output_type": "display_data"
    }
   ],
   "source": [
    "plt.figure(figsize=(12, 6))\n",
    "ax = sns.heatmap(np.sign(reward_heat0 - reward_heat1), annot=True)\n",
    "plt.show()"
   ]
  },
  {
   "cell_type": "code",
   "execution_count": 14,
   "metadata": {},
   "outputs": [
    {
     "name": "stdout",
     "output_type": "stream",
     "text": [
      "0 [0.03605141 0.60513782]\n",
      "1 [0.04337054 0.64187838]\n",
      "2 [0.05201667 0.67531239]\n",
      "3 [0.06216273 0.70479388]\n",
      "4 [0.07397655 0.72961904]\n",
      "5 [0.08760812 0.74905051]\n",
      "6 [0.10317354 0.7623551 ]\n",
      "7 [0.12073644 0.7688557 ]\n",
      "8 [0.14028843 0.76799556]\n",
      "9 [0.16173156 0.7594097 ]\n",
      "10 [0.18486635 0.74299429]\n",
      "11 [0.20938888 0.71896168]\n",
      "12 [0.23490014 0.68786827]\n",
      "13 [0.26092811 0.65060487]\n",
      "14 [0.28696091 0.60834605]\n",
      "15 [0.31248628 0.56246341]\n",
      "16 [0.33703113 0.51441593]\n",
      "17 [0.36019483 0.46563566]\n",
      "18 [0.3816716  0.41742662]\n",
      "19 [0.40125998 0.37089035]\n",
      "20 [0.41886022 0.32688416]\n",
      "21 [0.43446244 0.28601122]\n",
      "22 [0.44812907 0.2486361 ]\n",
      "23 [0.45997543 0.21491724]\n",
      "24 [0.47015103 0.18484783]\n"
     ]
    }
   ],
   "source": [
    "for i in range(n_actions):\n",
    "    print(i, reward_comp([16, i]))"
   ]
  },
  {
   "cell_type": "code",
   "execution_count": 43,
   "metadata": {},
   "outputs": [
    {
     "data": {
      "text/plain": [
       "2.200000000000001"
      ]
     },
     "execution_count": 43,
     "metadata": {},
     "output_type": "execute_result"
    }
   ],
   "source": [
    "actions_space[21]"
   ]
  },
  {
   "cell_type": "code",
   "execution_count": 68,
   "metadata": {},
   "outputs": [
    {
     "data": {
      "text/plain": [
       "1.7500000000000004"
      ]
     },
     "execution_count": 68,
     "metadata": {},
     "output_type": "execute_result"
    }
   ],
   "source": [
    "actions_space[12]"
   ]
  },
  {
   "cell_type": "code",
   "execution_count": 65,
   "metadata": {},
   "outputs": [
    {
     "data": {
      "text/plain": [
       "0.7626567388199937"
      ]
     },
     "execution_count": 65,
     "metadata": {},
     "output_type": "execute_result"
    }
   ],
   "source": [
    "#[21, 11] is perfect monopoply \n",
    "#[5, 1] is Bertrand equilibrium\n",
    "#[8, 9] is classic loss\n",
    "# classic\n",
    "#[16, 19] is deep loss\n",
    "#[5, 1] is deep\n",
    "(np.mean(reward_comp([12, 9])) - np.mean(reward_comp([5, 1])))/\\\n",
    "(np.mean(reward_comp([21, 11])) - np.mean(reward_comp([5, 1])))"
   ]
  },
  {
   "cell_type": "code",
   "execution_count": null,
   "metadata": {},
   "outputs": [],
   "source": []
  },
  {
   "cell_type": "code",
   "execution_count": 39,
   "metadata": {},
   "outputs": [
    {
     "data": {
      "text/plain": [
       "array([1.91525892, 1.45924489])"
      ]
     },
     "execution_count": 39,
     "metadata": {},
     "output_type": "execute_result"
    }
   ],
   "source": [
    "np.divide(reward_comp([15, 11]), reward_comp([5, 1]))"
   ]
  },
  {
   "cell_type": "code",
   "execution_count": 40,
   "metadata": {},
   "outputs": [
    {
     "data": {
      "text/plain": [
       "array([0.2310144 , 0.68550935])"
      ]
     },
     "execution_count": 40,
     "metadata": {},
     "output_type": "execute_result"
    }
   ],
   "source": [
    "reward_comp([15, 11])"
   ]
  },
  {
   "cell_type": "code",
   "execution_count": 38,
   "metadata": {},
   "outputs": [
    {
     "data": {
      "text/plain": [
       "1.3124999999999998"
      ]
     },
     "execution_count": 38,
     "metadata": {},
     "output_type": "execute_result"
    }
   ],
   "source": [
    "(reward_comp([15, 11])[0]/reward_comp([15, 11])[1])/(reward_comp([5, 1])[0]/reward_comp([5, 1])[1])"
   ]
  },
  {
   "cell_type": "code",
   "execution_count": 30,
   "metadata": {},
   "outputs": [
    {
     "data": {
      "text/plain": [
       "array([0.40125998, 0.37089035])"
      ]
     },
     "execution_count": 30,
     "metadata": {},
     "output_type": "execute_result"
    }
   ],
   "source": [
    "reward_comp([16, 19])"
   ]
  },
  {
   "cell_type": "code",
   "execution_count": null,
   "metadata": {},
   "outputs": [],
   "source": []
  }
 ],
 "metadata": {
  "kernelspec": {
   "display_name": "Python 3",
   "language": "python",
   "name": "python3"
  },
  "language_info": {
   "codemirror_mode": {
    "name": "ipython",
    "version": 3
   },
   "file_extension": ".py",
   "mimetype": "text/x-python",
   "name": "python",
   "nbconvert_exporter": "python",
   "pygments_lexer": "ipython3",
   "version": "3.7.2"
  }
 },
 "nbformat": 4,
 "nbformat_minor": 2
}
