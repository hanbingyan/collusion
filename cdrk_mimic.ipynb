{
 "cells": [
  {
   "cell_type": "code",
   "execution_count": 1,
   "metadata": {},
   "outputs": [],
   "source": [
    "import random\n",
    "import numpy as np\n",
    "import matplotlib.pyplot as plt\n",
    "import seaborn as sns\n",
    "random.seed(12345)\n",
    "np.random.seed(12345)"
   ]
  },
  {
   "cell_type": "code",
   "execution_count": 2,
   "metadata": {},
   "outputs": [],
   "source": [
    "DELTA = 0.95\n",
    "num_episodes = 1500000\n",
    "alpha = 0.15\n",
    "eps = 1e-5\n",
    "actions_space = np.arange(1.43, 2.0, 0.04)\n",
    "n_actions = actions_space.size\n",
    "n_agents = 2"
   ]
  },
  {
   "cell_type": "code",
   "execution_count": 3,
   "metadata": {},
   "outputs": [],
   "source": [
    "quality = np.ones(n_agents) * 2\n",
    "margin_cost = np.ones(n_agents)\n",
    "horizon = 1/4\n",
    "a0 = 0\n",
    "\n",
    "def reward_comp(action):\n",
    "    # Compute profits for all agents\n",
    "    # Input: actions taken by all agents, shape: n_agents; value: from actions_space = np.array(0, 50, 0.1)\n",
    "    # Output: profits for all agents, n_agents\n",
    "    price = actions_space[action]\n",
    "    demand = np.exp((quality - price) / horizon)\n",
    "    demand = demand / (np.sum(demand) + np.exp(a0 / horizon))\n",
    "    reward = np.multiply(price - margin_cost, demand)\n",
    "    return reward"
   ]
  },
  {
   "cell_type": "code",
   "execution_count": 4,
   "metadata": {},
   "outputs": [],
   "source": [
    "reward_sum = np.zeros(n_actions)\n",
    "for self_act in range(n_actions):\n",
    "    for rival_act in range(n_actions):\n",
    "        if rival_act == self_act: \n",
    "            continue\n",
    "        state = np.array([self_act, rival_act])\n",
    "        reward_sum[self_act] += reward_comp(state)[0]\n",
    "reward_sum = reward_sum/(1 - DELTA)/np.power(n_actions, n_agents-1)"
   ]
  },
  {
   "cell_type": "code",
   "execution_count": 5,
   "metadata": {
    "scrolled": true
   },
   "outputs": [
    {
     "name": "stdout",
     "output_type": "stream",
     "text": [
      "price [1.95 1.47]\n",
      "count 1\n",
      "price [1.87 1.99]\n",
      "count 42\n",
      "price [1.83 1.43]\n",
      "count 3\n",
      "price [1.83 1.83]\n",
      "count 203\n",
      "price [1.83 1.83]\n",
      "count 28\n",
      "price [1.83 1.83]\n",
      "count 608\n",
      "price [1.83 1.83]\n",
      "count 1107\n",
      "price [1.83 1.83]\n",
      "count 5921\n",
      "price [1.83 1.83]\n",
      "count 1491\n",
      "price [1.83 1.83]\n",
      "count 5891\n",
      "price [1.83 1.83]\n",
      "count 45891\n",
      "price [1.83 1.83]\n",
      "count 85891\n",
      "price [1.83 1.83]\n",
      "count 125891\n",
      "price [1.83 1.83]\n",
      "count 16095\n",
      "price [1.83 1.83]\n",
      "count 56095\n",
      "price [1.83 1.83]\n",
      "count 96095\n",
      "price [1.83 1.83]\n",
      "count 136095\n",
      "Terminate condition satisfied.\n",
      "state [array([10, 10]), array([10, 10]), array([10, 10]), array([10, 10]), array([10, 10]), array([10, 10]), array([10, 10]), array([10, 10]), array([10, 10]), array([10, 10])]\n"
     ]
    }
   ],
   "source": [
    "# Q matrix, first two indices as states, last one as actions\n",
    "Q = np.zeros((n_agents, n_actions, n_actions, n_actions))\n",
    "for agent in range(n_agents):\n",
    "    for act in range(n_actions):\n",
    "        Q[agent, :, :, act] = reward_sum[act]\n",
    "\n",
    "steps_done = np.zeros(n_agents)\n",
    "\n",
    "def select_action(agent, state):\n",
    "    # state should be like [1, 2]\n",
    "    global steps_done\n",
    "    sample = random.random()\n",
    "    eps_threshold = np.exp(-eps * steps_done[agent])\n",
    "    steps_done[agent] += 1\n",
    "    if sample > eps_threshold:\n",
    "        return Q[agent][state[0]][state[1]].argmax()\n",
    "    else:\n",
    "        return np.random.randint(0, n_actions, 1, dtype=int)\n",
    "\n",
    "state_hist = []\n",
    "# Initialize the environment and state\n",
    "state = np.random.randint(0, n_actions, size=n_agents)\n",
    "state_hist.append(state)\n",
    "# Counter for variations in heat\n",
    "count = 0\n",
    "\n",
    "heat_unique0 = []\n",
    "heat_freq0 = []\n",
    "heat_unique1 = []\n",
    "heat_freq1 = []\n",
    "\n",
    "for i_episode in range(num_episodes):\n",
    "    # For each agent, select and perform an action\n",
    "    action = np.zeros(n_agents, dtype=int)\n",
    "    for i in range(n_agents):\n",
    "        action[i] = select_action(i, state)\n",
    "    sample = random.random()\n",
    "    if np.exp(-eps*i_episode) < sample:\n",
    "        action[0] = 10\n",
    "        \n",
    "    reward = reward_comp(action)\n",
    "\n",
    "    # Move to the next state\n",
    "    next_state = action\n",
    "    \n",
    "    old_heat0 = Q[0].argmax(2)\n",
    "    old_heat1 = Q[1].argmax(2)\n",
    "    \n",
    "\n",
    "    if reward[0] < reward[1]:\n",
    "        i = 0\n",
    "        Q[i][state[0]][state[1]][action[i]] = (1-alpha)*Q[i][state[0]][state[1]][action[i]] + \\\n",
    "            alpha*(reward[i] + DELTA*Q[i][next_state[0]][next_state[1]].max())\n",
    "    elif reward[0] == reward[1]:\n",
    "        i = 0\n",
    "        Q[i][state[0]][state[1]][action[i]] = (1-alpha)*Q[i][state[0]][state[1]][action[i]] + \\\n",
    "            alpha*(reward[i] + DELTA*Q[i][next_state[0]][next_state[1]].max())\n",
    "        i = 1\n",
    "        Q[i][state[0]][state[1]][action[i]] = (1-alpha)*Q[i][state[0]][state[1]][action[i]] + \\\n",
    "            alpha*(reward[i] + DELTA*Q[i][next_state[0]][next_state[1]].max())\n",
    "    else:\n",
    "        i = 1\n",
    "        Q[i][state[0]][state[1]][action[i]] = (1-alpha)*Q[i][state[0]][state[1]][action[i]] + \\\n",
    "            alpha*(reward[i] + DELTA*Q[i][next_state[0]][next_state[1]].max())     \n",
    "    \n",
    "    new_heat0 = Q[0].argmax(2)\n",
    "    new_heat1 = Q[1].argmax(2)\n",
    "            \n",
    "    if np.sum(np.abs(old_heat0 - new_heat0)) == 0 and np.sum(np.abs(old_heat1 - new_heat1)) == 0:\n",
    "        count += 1\n",
    "    else:\n",
    "        count = 0\n",
    "            \n",
    "\n",
    "    if i_episode%40000 == 0:\n",
    "        print('price', actions_space[action])\n",
    "        print('count', count)\n",
    "    \n",
    "    if i_episode%5000 == 0:\n",
    "        uniq0, freq0 = np.unique(new_heat0, return_counts=True)\n",
    "        heat_unique0.append(uniq0)\n",
    "        heat_freq0.append(freq0)\n",
    "\n",
    "        uniq1, freq1 = np.unique(new_heat1, return_counts=True)\n",
    "        heat_unique1.append(uniq1)\n",
    "        heat_freq1.append(freq1)\n",
    "\n",
    "    state = next_state\n",
    "    state_hist.append(state)\n",
    "    \n",
    "    if count == 150000:\n",
    "        print('Terminate condition satisfied.')\n",
    "        print('state', state_hist[-10:])\n",
    "        break"
   ]
  },
  {
   "cell_type": "code",
   "execution_count": 6,
   "metadata": {},
   "outputs": [
    {
     "data": {
      "image/png": "[encoded data removed]",
      "text/plain": [
       "<Figure size 576x432 with 2 Axes>"
      ]
     },
     "metadata": {
      "needs_background": "light"
     },
     "output_type": "display_data"
    }
   ],
   "source": [
    "plt.figure(figsize=(8, 6))\n",
    "ax = sns.heatmap(new_heat1, cbar=False, annot=True)\n",
    "plt.xlabel('Classic player')\n",
    "plt.ylabel('Constant player')\n",
    "cbar = ax.figure.colorbar(ax.collections[0])\n",
    "cbar.set_ticks([0, 2, 4, 6, 8, 10, 12, 14])\n",
    "fig = ax.get_figure()\n",
    "# fig.savefig('mimic.eps', format='eps', dpi=500, bbox_inches='tight', pad_inches=0.1)"
   ]
  },
  {
   "cell_type": "code",
   "execution_count": null,
   "metadata": {},
   "outputs": [],
   "source": []
  },
  {
   "cell_type": "code",
   "execution_count": null,
   "metadata": {},
   "outputs": [],
   "source": []
  }
 ],
 "metadata": {
  "kernelspec": {
   "display_name": "Python 3",
   "language": "python",
   "name": "python3"
  },
  "language_info": {
   "codemirror_mode": {
    "name": "ipython",
    "version": 3
   },
   "file_extension": ".py",
   "mimetype": "text/x-python",
   "name": "python",
   "nbconvert_exporter": "python",
   "pygments_lexer": "ipython3",
   "version": "3.7.2"
  }
 },
 "nbformat": 4,
 "nbformat_minor": 2
}
